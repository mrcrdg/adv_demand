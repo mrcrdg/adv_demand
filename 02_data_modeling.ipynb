{
 "cells": [
  {
   "cell_type": "markdown",
   "metadata": {},
   "source": [
    "## Criaçao de features e modelo"
   ]
  },
  {
   "cell_type": "markdown",
   "metadata": {
    "_cell_guid": "ea86dbe2-8db9-4486-82df-6bb56a4fbb83",
    "_uuid": "746605b4858f9c058ea711397e5322648d82facb"
   },
   "source": [
    "## <a id='ll'>1 Libs</a>"
   ]
  },
  {
   "cell_type": "code",
   "execution_count": 34,
   "metadata": {
    "_cell_guid": "b1076dfc-b9ad-4769-8c92-a6c4dae69d19",
    "_kg_hide-input": true,
    "_uuid": "8f2839f25d086af736a60e9eeb907d3b93b6e0e5",
    "jupyter": {
     "source_hidden": true
    },
    "tags": []
   },
   "outputs": [],
   "source": [
    "import pandas as pd \n",
    "import numpy as np \n",
    "import plotly.offline as py\n",
    "import plotly.graph_objs as go\n",
    "import matplotlib.pyplot as plt\n",
    "\n",
    "from sklearn import preprocessing\n",
    "import warnings\n",
    "warnings.filterwarnings(\"ignore\")\n",
    "\n",
    "from nltk.corpus import stopwords\n",
    "import string\n",
    "import time\n",
    "\n",
    "stop_words = list(set(stopwords.words('russian')))\n",
    "punctuation = string.punctuation\n",
    "\n",
    "from sklearn import tree\n",
    "from sklearn.model_selection import cross_val_score\n",
    "from IPython.display import Image as PImage\n",
    "from sklearn.feature_extraction.text import CountVectorizer, TfidfVectorizer\n",
    "from sklearn.model_selection import train_test_split\n",
    "from sklearn.metrics import mean_squared_error\n",
    "from subprocess import check_call\n",
    "from PIL import Image, ImageDraw, ImageFont\n",
    "import re\n",
    "import gc\n",
    "import pydot\n",
    "import scipy\n",
    "\n",
    "import lightgbm as lgb\n",
    "from sklearn.ensemble import GradientBoostingRegressor\n",
    "from lazypredict.Supervised import LazyRegressor\n",
    "from sklearn.metrics import mean_squared_error"
   ]
  },
  {
   "cell_type": "code",
   "execution_count": 2,
   "metadata": {
    "jupyter": {
     "source_hidden": true
    },
    "tags": []
   },
   "outputs": [],
   "source": [
    "pd.set_option('display.max_columns', None)"
   ]
  },
  {
   "cell_type": "markdown",
   "metadata": {
    "_cell_guid": "a5bae02a-0957-45b3-9070-a5ca666d6abd",
    "_uuid": "a65c908f4932c6b82bd55f5c6f0d950f505907f3"
   },
   "source": [
    "## <a id='rrtd'>2 Importação dos dados</a>"
   ]
  },
  {
   "cell_type": "code",
   "execution_count": 3,
   "metadata": {
    "_cell_guid": "79c7e3d0-c299-4dcb-8224-4455121ee9b0",
    "_kg_hide-input": true,
    "_uuid": "d629ff2d2480ee46fbb7e2d37f6b5fab8052498a",
    "tags": []
   },
   "outputs": [
    {
     "name": "stdout",
     "output_type": "stream",
     "text": [
      "Leitura......\n",
      "Ok....\n"
     ]
    }
   ],
   "source": [
    "print(\"Leitura......\")\n",
    "periods_train = pd.read_csv('../data/periods_train.csv', parse_dates=[\"activation_date\", \"date_from\", \"date_to\"])\n",
    "train = pd.read_csv('../data/train.csv')\n",
    "print(\"Ok....\")"
   ]
  },
  {
   "cell_type": "code",
   "execution_count": 4,
   "metadata": {
    "_cell_guid": "2ad51a30-db88-4ea5-9430-5077212e81ca",
    "_kg_hide-input": true,
    "_uuid": "24e8932ef3663d3f080e8cdabdb37885c9d23849",
    "tags": []
   },
   "outputs": [
    {
     "name": "stdout",
     "output_type": "stream",
     "text": [
      "train data:  (1503424, 18)\n",
      "periods_train:  (16687412, 4)\n"
     ]
    }
   ],
   "source": [
    "print(\"train data: \", train.shape)\n",
    "#print(\"test data: \", test.shape)\n",
    "print(\"periods_train: \", periods_train.shape)\n",
    "#print(\"periods_test: \", periods_test.shape)"
   ]
  },
  {
   "cell_type": "markdown",
   "metadata": {
    "_cell_guid": "94666ad1-d315-498f-bc52-150a427cfc6e",
    "_uuid": "2726a6037513175e52687ad902fb256d30988d90"
   },
   "source": [
    "## <a id='oot'>2.1 Datasets</a>"
   ]
  },
  {
   "cell_type": "markdown",
   "metadata": {
    "_cell_guid": "bbc19b3a-f020-44c4-a6c9-ff07a67420b9",
    "_uuid": "fc2e96f7e72659b1fdddb7331284862e20c844f3"
   },
   "source": [
    "**train data**"
   ]
  },
  {
   "cell_type": "code",
   "execution_count": 5,
   "metadata": {
    "_cell_guid": "29a5ad42-d921-45f4-a832-97a904882430",
    "_kg_hide-input": true,
    "_uuid": "09bdd50325c8973ce2c88bf0320b965244ce9b87",
    "tags": []
   },
   "outputs": [
    {
     "data": {
      "text/html": [
       "<div>\n",
       "<style scoped>\n",
       "    .dataframe tbody tr th:only-of-type {\n",
       "        vertical-align: middle;\n",
       "    }\n",
       "\n",
       "    .dataframe tbody tr th {\n",
       "        vertical-align: top;\n",
       "    }\n",
       "\n",
       "    .dataframe thead th {\n",
       "        text-align: right;\n",
       "    }\n",
       "</style>\n",
       "<table border=\"1\" class=\"dataframe\">\n",
       "  <thead>\n",
       "    <tr style=\"text-align: right;\">\n",
       "      <th></th>\n",
       "      <th>item_id</th>\n",
       "      <th>user_id</th>\n",
       "      <th>region</th>\n",
       "      <th>city</th>\n",
       "      <th>parent_category_name</th>\n",
       "      <th>category_name</th>\n",
       "      <th>param_1</th>\n",
       "      <th>param_2</th>\n",
       "      <th>param_3</th>\n",
       "      <th>title</th>\n",
       "      <th>description</th>\n",
       "      <th>price</th>\n",
       "      <th>item_seq_number</th>\n",
       "      <th>activation_date</th>\n",
       "      <th>user_type</th>\n",
       "      <th>image</th>\n",
       "      <th>image_top_1</th>\n",
       "      <th>deal_probability</th>\n",
       "    </tr>\n",
       "  </thead>\n",
       "  <tbody>\n",
       "    <tr>\n",
       "      <th>0</th>\n",
       "      <td>b912c3c6a6ad</td>\n",
       "      <td>e00f8ff2eaf9</td>\n",
       "      <td>Свердловская область</td>\n",
       "      <td>Екатеринбург</td>\n",
       "      <td>Личные вещи</td>\n",
       "      <td>Товары для детей и игрушки</td>\n",
       "      <td>Постельные принадлежности</td>\n",
       "      <td>NaN</td>\n",
       "      <td>NaN</td>\n",
       "      <td>Кокоби(кокон для сна)</td>\n",
       "      <td>Кокон для сна малыша,пользовались меньше месяц...</td>\n",
       "      <td>400.00</td>\n",
       "      <td>2</td>\n",
       "      <td>2017-03-28</td>\n",
       "      <td>Private</td>\n",
       "      <td>d10c7e016e03247a3bf2d13348fe959fe6f436c1caf64c...</td>\n",
       "      <td>1008.00</td>\n",
       "      <td>0.13</td>\n",
       "    </tr>\n",
       "    <tr>\n",
       "      <th>1</th>\n",
       "      <td>2dac0150717d</td>\n",
       "      <td>39aeb48f0017</td>\n",
       "      <td>Самарская область</td>\n",
       "      <td>Самара</td>\n",
       "      <td>Для дома и дачи</td>\n",
       "      <td>Мебель и интерьер</td>\n",
       "      <td>Другое</td>\n",
       "      <td>NaN</td>\n",
       "      <td>NaN</td>\n",
       "      <td>Стойка для Одежды</td>\n",
       "      <td>Стойка для одежды, под вешалки. С бутика.</td>\n",
       "      <td>3000.00</td>\n",
       "      <td>19</td>\n",
       "      <td>2017-03-26</td>\n",
       "      <td>Private</td>\n",
       "      <td>79c9392cc51a9c81c6eb91eceb8e552171db39d7142700...</td>\n",
       "      <td>692.00</td>\n",
       "      <td>0.00</td>\n",
       "    </tr>\n",
       "    <tr>\n",
       "      <th>2</th>\n",
       "      <td>ba83aefab5dc</td>\n",
       "      <td>91e2f88dd6e3</td>\n",
       "      <td>Ростовская область</td>\n",
       "      <td>Ростов-на-Дону</td>\n",
       "      <td>Бытовая электроника</td>\n",
       "      <td>Аудио и видео</td>\n",
       "      <td>Видео, DVD и Blu-ray плееры</td>\n",
       "      <td>NaN</td>\n",
       "      <td>NaN</td>\n",
       "      <td>Philips bluray</td>\n",
       "      <td>В хорошем состоянии, домашний кинотеатр с blu ...</td>\n",
       "      <td>4000.00</td>\n",
       "      <td>9</td>\n",
       "      <td>2017-03-20</td>\n",
       "      <td>Private</td>\n",
       "      <td>b7f250ee3f39e1fedd77c141f273703f4a9be59db4b48a...</td>\n",
       "      <td>3032.00</td>\n",
       "      <td>0.43</td>\n",
       "    </tr>\n",
       "  </tbody>\n",
       "</table>\n",
       "</div>"
      ],
      "text/plain": [
       "        item_id       user_id                region            city  \\\n",
       "0  b912c3c6a6ad  e00f8ff2eaf9  Свердловская область    Екатеринбург   \n",
       "1  2dac0150717d  39aeb48f0017     Самарская область          Самара   \n",
       "2  ba83aefab5dc  91e2f88dd6e3    Ростовская область  Ростов-на-Дону   \n",
       "\n",
       "  parent_category_name               category_name  \\\n",
       "0          Личные вещи  Товары для детей и игрушки   \n",
       "1      Для дома и дачи           Мебель и интерьер   \n",
       "2  Бытовая электроника               Аудио и видео   \n",
       "\n",
       "                       param_1 param_2 param_3                  title  \\\n",
       "0    Постельные принадлежности     NaN     NaN  Кокоби(кокон для сна)   \n",
       "1                       Другое     NaN     NaN      Стойка для Одежды   \n",
       "2  Видео, DVD и Blu-ray плееры     NaN     NaN         Philips bluray   \n",
       "\n",
       "                                         description   price  item_seq_number  \\\n",
       "0  Кокон для сна малыша,пользовались меньше месяц...  400.00                2   \n",
       "1          Стойка для одежды, под вешалки. С бутика. 3000.00               19   \n",
       "2  В хорошем состоянии, домашний кинотеатр с blu ... 4000.00                9   \n",
       "\n",
       "  activation_date user_type  \\\n",
       "0      2017-03-28   Private   \n",
       "1      2017-03-26   Private   \n",
       "2      2017-03-20   Private   \n",
       "\n",
       "                                               image  image_top_1  \\\n",
       "0  d10c7e016e03247a3bf2d13348fe959fe6f436c1caf64c...      1008.00   \n",
       "1  79c9392cc51a9c81c6eb91eceb8e552171db39d7142700...       692.00   \n",
       "2  b7f250ee3f39e1fedd77c141f273703f4a9be59db4b48a...      3032.00   \n",
       "\n",
       "   deal_probability  \n",
       "0              0.13  \n",
       "1              0.00  \n",
       "2              0.43  "
      ]
     },
     "execution_count": 5,
     "metadata": {},
     "output_type": "execute_result"
    }
   ],
   "source": [
    "train.head(3)"
   ]
  },
  {
   "cell_type": "markdown",
   "metadata": {
    "_cell_guid": "cad87ca4-84a1-4466-9599-fced20f17dcb",
    "_uuid": "7b9072f522438d986f7a2fa0cb0fee722497b492"
   },
   "source": [
    "**periods train data**"
   ]
  },
  {
   "cell_type": "code",
   "execution_count": 6,
   "metadata": {
    "_cell_guid": "78de07a3-7e3c-4673-8148-9aa4d138f7c4",
    "_kg_hide-input": true,
    "_uuid": "073f7f0141cd30be91c292439142a16201cbd0aa",
    "tags": []
   },
   "outputs": [
    {
     "data": {
      "text/html": [
       "<div>\n",
       "<style scoped>\n",
       "    .dataframe tbody tr th:only-of-type {\n",
       "        vertical-align: middle;\n",
       "    }\n",
       "\n",
       "    .dataframe tbody tr th {\n",
       "        vertical-align: top;\n",
       "    }\n",
       "\n",
       "    .dataframe thead th {\n",
       "        text-align: right;\n",
       "    }\n",
       "</style>\n",
       "<table border=\"1\" class=\"dataframe\">\n",
       "  <thead>\n",
       "    <tr style=\"text-align: right;\">\n",
       "      <th></th>\n",
       "      <th>item_id</th>\n",
       "      <th>activation_date</th>\n",
       "      <th>date_from</th>\n",
       "      <th>date_to</th>\n",
       "    </tr>\n",
       "  </thead>\n",
       "  <tbody>\n",
       "    <tr>\n",
       "      <th>0</th>\n",
       "      <td>8f5caef7afb0</td>\n",
       "      <td>2017-02-14</td>\n",
       "      <td>2017-03-15</td>\n",
       "      <td>2017-03-16</td>\n",
       "    </tr>\n",
       "    <tr>\n",
       "      <th>1</th>\n",
       "      <td>66218ff526d1</td>\n",
       "      <td>2017-02-16</td>\n",
       "      <td>2017-03-15</td>\n",
       "      <td>2017-03-18</td>\n",
       "    </tr>\n",
       "    <tr>\n",
       "      <th>2</th>\n",
       "      <td>b237d9539b21</td>\n",
       "      <td>2017-03-01</td>\n",
       "      <td>2017-03-15</td>\n",
       "      <td>2017-03-28</td>\n",
       "    </tr>\n",
       "  </tbody>\n",
       "</table>\n",
       "</div>"
      ],
      "text/plain": [
       "        item_id activation_date  date_from    date_to\n",
       "0  8f5caef7afb0      2017-02-14 2017-03-15 2017-03-16\n",
       "1  66218ff526d1      2017-02-16 2017-03-15 2017-03-18\n",
       "2  b237d9539b21      2017-03-01 2017-03-15 2017-03-28"
      ]
     },
     "execution_count": 6,
     "metadata": {},
     "output_type": "execute_result"
    }
   ],
   "source": [
    "periods_train.head(3)"
   ]
  },
  {
   "cell_type": "markdown",
   "metadata": {},
   "source": [
    "# 3. Geração de features"
   ]
  },
  {
   "cell_type": "markdown",
   "metadata": {},
   "source": [
    "## 3.1 Conversão do idioma"
   ]
  },
  {
   "cell_type": "code",
   "execution_count": 7,
   "metadata": {
    "jupyter": {
     "source_hidden": true
    },
    "tags": []
   },
   "outputs": [],
   "source": [
    "## Converter Idioma colunas - ['parent_category', 'region', 'city']\n",
    "\n",
    "parent_category_name_map = {\"Личные вещи\" : \"Personal belongings\",\n",
    "                            \"Для дома и дачи\" : \"For the home and garden\",\n",
    "                            \"Бытовая электроника\" : \"Consumer electronics\",\n",
    "                            \"Недвижимость\" : \"Real estate\",\n",
    "                            \"Хобби и отдых\" : \"Hobbies & leisure\",\n",
    "                            \"Транспорт\" : \"Transport\",\n",
    "                            \"Услуги\" : \"Services\",\n",
    "                            \"Животные\" : \"Animals\",\n",
    "                            \"Для бизнеса\" : \"For business\"}\n",
    "\n",
    "region_map = {\"Свердловская область\" : \"Sverdlovsk oblast\",\n",
    "            \"Самарская область\" : \"Samara oblast\",\n",
    "            \"Ростовская область\" : \"Rostov oblast\",\n",
    "            \"Татарстан\" : \"Tatarstan\",\n",
    "            \"Волгоградская область\" : \"Volgograd oblast\",\n",
    "            \"Нижегородская область\" : \"Nizhny Novgorod oblast\",\n",
    "            \"Пермский край\" : \"Perm Krai\",\n",
    "            \"Оренбургская область\" : \"Orenburg oblast\",\n",
    "            \"Ханты-Мансийский АО\" : \"Khanty-Mansi Autonomous Okrug\",\n",
    "            \"Тюменская область\" : \"Tyumen oblast\",\n",
    "            \"Башкортостан\" : \"Bashkortostan\",\n",
    "            \"Краснодарский край\" : \"Krasnodar Krai\",\n",
    "            \"Новосибирская область\" : \"Novosibirsk oblast\",\n",
    "            \"Омская область\" : \"Omsk oblast\",\n",
    "            \"Белгородская область\" : \"Belgorod oblast\",\n",
    "            \"Челябинская область\" : \"Chelyabinsk oblast\",\n",
    "            \"Воронежская область\" : \"Voronezh oblast\",\n",
    "            \"Кемеровская область\" : \"Kemerovo oblast\",\n",
    "            \"Саратовская область\" : \"Saratov oblast\",\n",
    "            \"Владимирская область\" : \"Vladimir oblast\",\n",
    "            \"Калининградская область\" : \"Kaliningrad oblast\",\n",
    "            \"Красноярский край\" : \"Krasnoyarsk Krai\",\n",
    "            \"Ярославская область\" : \"Yaroslavl oblast\",\n",
    "            \"Удмуртия\" : \"Udmurtia\",\n",
    "            \"Алтайский край\" : \"Altai Krai\",\n",
    "            \"Иркутская область\" : \"Irkutsk oblast\",\n",
    "            \"Ставропольский край\" : \"Stavropol Krai\",\n",
    "            \"Тульская область\" : \"Tula oblast\"}\n",
    "\n",
    "\n",
    "category_map = {\"Одежда, обувь, аксессуары\":\"Clothing, shoes, accessories\",\n",
    "\"Детская одежда и обувь\":\"Children's clothing and shoes\",\n",
    "\"Товары для детей и игрушки\":\"Children's products and toys\",\n",
    "\"Квартиры\":\"Apartments\",\n",
    "\"Телефоны\":\"Phones\",\n",
    "\"Мебель и интерьер\":\"Furniture and interior\",\n",
    "\"Предложение услуг\":\"Offer services\",\n",
    "\"Автомобили\":\"Cars\",\n",
    "\"Ремонт и строительство\":\"Repair and construction\",\n",
    "\"Бытовая техника\":\"Appliances\",\n",
    "\"Товары для компьютера\":\"Products for computer\",\n",
    "\"Дома, дачи, коттеджи\":\"Houses, villas, cottages\",\n",
    "\"Красота и здоровье\":\"Health and beauty\",\n",
    "\"Аудио и видео\":\"Audio and video\",\n",
    "\"Спорт и отдых\":\"Sports and recreation\",\n",
    "\"Коллекционирование\":\"Collecting\",\n",
    "\"Оборудование для бизнеса\":\"Equipment for business\",\n",
    "\"Земельные участки\":\"Land\",\n",
    "\"Часы и украшения\":\"Watches and jewelry\",\n",
    "\"Книги и журналы\":\"Books and magazines\",\n",
    "\"Собаки\":\"Dogs\",\n",
    "\"Игры, приставки и программы\":\"Games, consoles and software\",\n",
    "\"Другие животные\":\"Other animals\",\n",
    "\"Велосипеды\":\"Bikes\",\n",
    "\"Ноутбуки\":\"Laptops\",\n",
    "\"Кошки\":\"Cats\",\n",
    "\"Грузовики и спецтехника\":\"Trucks and buses\",\n",
    "\"Посуда и товары для кухни\":\"Tableware and goods for kitchen\",\n",
    "\"Растения\":\"Plants\",\n",
    "\"Планшеты и электронные книги\":\"Tablets and e-books\",\n",
    "\"Товары для животных\":\"Pet products\",\n",
    "\"Комнаты\":\"Room\",\n",
    "\"Фототехника\":\"Photo\",\n",
    "\"Коммерческая недвижимость\":\"Commercial property\",\n",
    "\"Гаражи и машиноместа\":\"Garages and Parking spaces\",\n",
    "\"Музыкальные инструменты\":\"Musical instruments\",\n",
    "\"Оргтехника и расходники\":\"Office equipment and consumables\",\n",
    "\"Птицы\":\"Birds\",\n",
    "\"Продукты питания\":\"Food\",\n",
    "\"Мотоциклы и мототехника\":\"Motorcycles and bikes\",\n",
    "\"Настольные компьютеры\":\"Desktop computers\",\n",
    "\"Аквариум\":\"Aquarium\",\n",
    "\"Охота и рыбалка\":\"Hunting and fishing\",\n",
    "\"Билеты и путешествия\":\"Tickets and travel\",\n",
    "\"Водный транспорт\":\"Water transport\",\n",
    "\"Готовый бизнес\":\"Ready business\",\n",
    "\"Недвижимость за рубежом\":\"Property abroad\"}\n",
    "\n",
    "params_top35_map = {'Женская одежда':\"Women's clothing\",\n",
    "                    'Для девочек':'For girls',\n",
    "                    'Для мальчиков':'For boys',\n",
    "                    'Продам':'Selling',\n",
    "                    'С пробегом':'With mileage',\n",
    "                    'Аксессуары':'Accessories',\n",
    "                    'Мужская одежда':\"Men's Clothing\",\n",
    "                    'Другое':'Other','Игрушки':'Toys',\n",
    "                    'Детские коляски':'Baby carriages', \n",
    "                    'Сдам':'Rent',\n",
    "                    'Ремонт, строительство':'Repair, construction',\n",
    "                    'Стройматериалы':'Building materials',\n",
    "                    'iPhone':'iPhone',\n",
    "                    'Кровати, диваны и кресла':'Beds, sofas and armchairs',\n",
    "                    'Инструменты':'Instruments',\n",
    "                    'Для кухни':'For kitchen',\n",
    "                    'Комплектующие':'Accessories',\n",
    "                    'Детская мебель':\"Children's furniture\",\n",
    "                    'Шкафы и комоды':'Cabinets and chests of drawers',\n",
    "                    'Приборы и аксессуары':'Devices and accessories',\n",
    "                    'Для дома':'For home',\n",
    "                    'Транспорт, перевозки':'Transport, transportation',\n",
    "                    'Товары для кормления':'Feeding products',\n",
    "                    'Samsung':'Samsung',\n",
    "                    'Сниму':'Hire',\n",
    "                    'Книги':'Books',\n",
    "                    'Телевизоры и проекторы':'Televisions and projectors',\n",
    "                    'Велосипеды и самокаты':'Bicycles and scooters',\n",
    "                    'Предметы интерьера, искусство':'Interior items, art',\n",
    "                    'Другая':'Other','Косметика':'Cosmetics',\n",
    "                    'Постельные принадлежности':'Bed dress',\n",
    "                    'С/х животные' :'Farm animals','Столы и стулья':'Tables and chairs'}"
   ]
  },
  {
   "cell_type": "code",
   "execution_count": 8,
   "metadata": {},
   "outputs": [],
   "source": [
    "## Convert Russian to English\n",
    "\n",
    "## Train\n",
    "train['region_english'] = train['region'].apply(lambda x : region_map[x])\n",
    "train['parent_category_name_english'] = train['parent_category_name'].apply(lambda x : parent_category_name_map[x])\n",
    "train['category_name_english'] = train['category_name'].apply(lambda x : category_map[x])"
   ]
  },
  {
   "cell_type": "markdown",
   "metadata": {},
   "source": [
    "## 3.2 Parametros"
   ]
  },
  {
   "cell_type": "code",
   "execution_count": 9,
   "metadata": {},
   "outputs": [],
   "source": [
    "## Combinar as features Param 1, 2 e 3 \n",
    "\n",
    "train['param_combined'] = train.apply(lambda row: ' '.join([str(row['param_1']), str(row['param_2']),  str(row['param_3'])]), axis=1)\n",
    "train['param_combined'] = train['param_combined'].fillna(\" \")\n",
    "train['param_combined_len'] = train['param_combined'].apply(lambda x : len(x.split()))"
   ]
  },
  {
   "cell_type": "markdown",
   "metadata": {},
   "source": [
    "## 3.3 Data de ativação "
   ]
  },
  {
   "cell_type": "markdown",
   "metadata": {},
   "source": [
    "**Novas features a partir de activation_date e periods_train :**\n",
    "\n",
    " - month\n",
    " - weekday\n",
    " - month_day\n",
    " - days_up"
   ]
  },
  {
   "cell_type": "code",
   "execution_count": 10,
   "metadata": {
    "jupyter": {
     "source_hidden": true
    },
    "tags": []
   },
   "outputs": [],
   "source": [
    "train['activation_date'] = pd.to_datetime(train['activation_date'])\n",
    "\n",
    "# Train\n",
    "train[\"month\"] = train[\"activation_date\"].dt.month\n",
    "train['weekday'] = train['activation_date'].dt.weekday\n",
    "train[\"day\"] = train['activation_date'].dt.day\n",
    "#train[\"year_Day\"] = train['activation_date'].dt.dayofyear\n",
    "\n",
    "## Fill NaN\n",
    "train[\"description\"].fillna(\"NA\", inplace=True)\n",
    "\n",
    "# periods_train\n",
    "periods_train['total_period'] = periods_train['date_to'] - periods_train['date_from']"
   ]
  },
  {
   "cell_type": "code",
   "execution_count": 11,
   "metadata": {
    "jupyter": {
     "source_hidden": true
    },
    "tags": []
   },
   "outputs": [],
   "source": [
    "# periods_train['days_up'] = periods_train['date_to'].dt.dayofyear - periods_train['date_from'].dt.dayofyear\n",
    "# ## Insere feature days_up nos dados de treino\n",
    "# train = train.merge(periods_train.set_index('item_id').loc[:, 'days_up'], on='item_id', how='left')\n",
    "\n",
    "\n",
    "# periods_train = periods_train.merge(train.loc[:, 'item_id':'user_id'], on='item_id', how='left')\n",
    "# n_user_items = train.groupby(['user_id'])[['item_id']].count().reset_index().rename(index=str, columns={'item_id': 'n_user_items'})\n",
    "# gp = periods_train.groupby(['user_id'])\n",
    "# train = train.merge(n_user_items, on='user_id', how='outer')"
   ]
  },
  {
   "cell_type": "markdown",
   "metadata": {},
   "source": [
    "## 3.4 Variáveis textuais"
   ]
  },
  {
   "cell_type": "markdown",
   "metadata": {},
   "source": [
    "Criar novas features :\n",
    "* **char_count**\n",
    "* **word_count**\n",
    "* **word_density**\n",
    "* **punctuation_count**\n",
    "* **unique_word**\n",
    "* **upper_case_word_count**\n",
    "* **stopword_count**"
   ]
  },
  {
   "cell_type": "code",
   "execution_count": 12,
   "metadata": {
    "jupyter": {
     "source_hidden": true
    },
    "tags": []
   },
   "outputs": [
    {
     "name": "stdout",
     "output_type": "stream",
     "text": [
      "time:   139.8134264945984 s\n"
     ]
    }
   ],
   "source": [
    "start_time=time.time()\n",
    "\n",
    "# Char count\n",
    "#train['d_length'] = train['description'].apply(lambda x: len(str(x))) \n",
    "train['char_count_desc'] = train['description'].apply(lambda x: len(str(x)))\n",
    "train['char_count_title'] = train['title'].apply(lambda x: len(str(x)))\n",
    "\n",
    "# Word count\n",
    "train['word_count_desc'] = train['description'].apply(lambda x: len(str(x).split()))\n",
    "train['word_count_title'] = train['title'].apply(lambda x: len(str(x).split()))\n",
    "\n",
    "# Word density \n",
    "train['word_density_desc'] = train['char_count_desc'] / (train['word_count_desc']+1)\n",
    "train['word_density_title'] = train['char_count_title'] / (train['word_count_title']+1)\n",
    "\n",
    "# Ponctuation \n",
    "train['punctuation_count_desc'] = train['description'].apply(lambda x: len([c for c in str(x) if c in string.punctuation])) \n",
    "train['punctuation_count_title'] = train['title'].apply(lambda x: len([c for c in str(x) if c in string.punctuation]))\n",
    "\n",
    "# Unique words\n",
    "train['unique_word_desc'] = train['description'].apply(lambda x: len(set(str(x).split())))\n",
    "train['unique_word_title'] = train['title'].apply(lambda x: len(set(str(x).split())))\n",
    "\n",
    "# Upper case\n",
    "train['upper_case_word_count_desc'] = train['description'].apply(lambda x: len([w for w in str(x).split() if w.isupper()]))\n",
    "train['upper_case_word_count_title'] = train['title'].apply(lambda x: len([w for w in str(x).split() if w.isupper()]))\n",
    "\n",
    "# Stopwords count\n",
    "train['stopword_count_desc'] = train['description'].apply(lambda x: len([wrd for wrd in str(x).split() if wrd.lower() in stop_words]))\n",
    "train['stopword_count_title'] = train['title'].apply(lambda x: len([wrd for wrd in str(x).split() if wrd.lower() in stop_words]))\n",
    "\n",
    "#Average length of the words\n",
    "train[\"mean_word_len_title\"] = train[\"title\"].apply(lambda x: np.mean([len(w) for w in str(x).split()]))\n",
    "train[\"mean_word_len_desc\"] = train[\"description\"].apply(lambda x: np.mean([len(w) for w in str(x).split()]))\n",
    "\n",
    "end_time=time.time()\n",
    "print(\"time:  \",end_time-start_time,\"s\")"
   ]
  },
  {
   "cell_type": "markdown",
   "metadata": {},
   "source": [
    "## 3.4 Variáveis categoricas"
   ]
  },
  {
   "cell_type": "markdown",
   "metadata": {},
   "source": [
    "   - region\n",
    "   - city\n",
    "   - parent_category_name\n",
    "   - category_name\n",
    "   - user_type\n",
    "   - param_1\n",
    "   - param_2\n",
    "   - param_3\n",
    "   - preço (6 classes)"
   ]
  },
  {
   "cell_type": "code",
   "execution_count": 14,
   "metadata": {
    "jupyter": {
     "source_hidden": true
    },
    "tags": []
   },
   "outputs": [],
   "source": [
    "# Label encode the categorical variables\n",
    "cat_vars = [\"region\", \"city\", \"parent_category_name\", \"category_name\", \"user_type\", \"param_1\", \"param_2\", \"param_3\", ]\n",
    "\n",
    "for col in cat_vars:\n",
    "    lb = preprocessing.LabelEncoder()\n",
    "    lb.fit(list(train[col].values.astype('str')))\n",
    "    train[col] = lb.transform(list(train[col].values.astype('str')))"
   ]
  },
  {
   "cell_type": "code",
   "execution_count": 15,
   "metadata": {
    "jupyter": {
     "source_hidden": true
    },
    "tags": []
   },
   "outputs": [],
   "source": [
    "## preço\n",
    "\n",
    "max_price = train['price'].max()\n",
    "min_price = train['price'].min()\n",
    "\n",
    "bins = [min_price, max_price*0.1, max_price*0.25, max_price*0.5, max_price*0.75, max_price]\n",
    "names = ['<10', '10-25', '25-50', '50-75', '>75']\n",
    "\n",
    "train['price_bins'] = pd.cut(train['price'], bins, labels=names)"
   ]
  },
  {
   "cell_type": "code",
   "execution_count": 16,
   "metadata": {
    "jupyter": {
     "source_hidden": true
    },
    "tags": []
   },
   "outputs": [],
   "source": [
    "# Label encode the categorical variables\n",
    "cat_vars = ['price_bins']\n",
    "for col in cat_vars:\n",
    "    lb = preprocessing.LabelEncoder()\n",
    "    lb.fit(list(train[col].values.astype('str')))\n",
    "    train[col] = lb.transform(list(train[col].values.astype('str')))"
   ]
  },
  {
   "cell_type": "markdown",
   "metadata": {},
   "source": [
    "## 3.5 Remover features não utilizadas"
   ]
  },
  {
   "cell_type": "markdown",
   "metadata": {},
   "source": [
    "- item_id\n",
    "- user_id\n",
    "- title\n",
    "- description\n",
    "- activation_date\n",
    "- image\n",
    "- region_en\n",
    "- parent_category_name_en\n",
    "- category_name_en"
   ]
  },
  {
   "cell_type": "code",
   "execution_count": 17,
   "metadata": {
    "jupyter": {
     "source_hidden": true
    },
    "tags": []
   },
   "outputs": [
    {
     "data": {
      "text/plain": [
       "0"
      ]
     },
     "execution_count": 17,
     "metadata": {},
     "output_type": "execute_result"
    }
   ],
   "source": [
    "cols_to_drop = [\"item_id\", \"user_id\", \"title\", \"description\", \"activation_date\", \"image\", 'param_combined']\n",
    "\n",
    "## Dataset para o Modelo\n",
    "train_df = train.drop(cols_to_drop + [\"region_english\", \"parent_category_name_english\", \"category_name_english\"], axis=1)\n",
    "\n",
    "## Drop NA\n",
    "# train_df = train_df.dropna(axis=1, how='any')\n",
    "# test_df = test_df.dropna(axis=1, how='any')\n",
    "gc.collect()"
   ]
  },
  {
   "cell_type": "code",
   "execution_count": 18,
   "metadata": {},
   "outputs": [
    {
     "data": {
      "text/html": [
       "<div>\n",
       "<style scoped>\n",
       "    .dataframe tbody tr th:only-of-type {\n",
       "        vertical-align: middle;\n",
       "    }\n",
       "\n",
       "    .dataframe tbody tr th {\n",
       "        vertical-align: top;\n",
       "    }\n",
       "\n",
       "    .dataframe thead th {\n",
       "        text-align: right;\n",
       "    }\n",
       "</style>\n",
       "<table border=\"1\" class=\"dataframe\">\n",
       "  <thead>\n",
       "    <tr style=\"text-align: right;\">\n",
       "      <th></th>\n",
       "      <th>region</th>\n",
       "      <th>city</th>\n",
       "      <th>parent_category_name</th>\n",
       "      <th>category_name</th>\n",
       "      <th>param_1</th>\n",
       "      <th>param_2</th>\n",
       "      <th>param_3</th>\n",
       "      <th>price</th>\n",
       "      <th>item_seq_number</th>\n",
       "      <th>user_type</th>\n",
       "      <th>image_top_1</th>\n",
       "      <th>deal_probability</th>\n",
       "      <th>param_combined_len</th>\n",
       "      <th>month</th>\n",
       "      <th>weekday</th>\n",
       "      <th>day</th>\n",
       "      <th>char_count_desc</th>\n",
       "      <th>char_count_title</th>\n",
       "      <th>word_count_desc</th>\n",
       "      <th>word_count_title</th>\n",
       "      <th>word_density_desc</th>\n",
       "      <th>word_density_title</th>\n",
       "      <th>punctuation_count_desc</th>\n",
       "      <th>punctuation_count_title</th>\n",
       "      <th>unique_word_desc</th>\n",
       "      <th>unique_word_title</th>\n",
       "      <th>upper_case_word_count_desc</th>\n",
       "      <th>upper_case_word_count_title</th>\n",
       "      <th>stopword_count_desc</th>\n",
       "      <th>stopword_count_title</th>\n",
       "      <th>mean_word_len_title</th>\n",
       "      <th>mean_word_len_desc</th>\n",
       "      <th>price_bins</th>\n",
       "    </tr>\n",
       "  </thead>\n",
       "  <tbody>\n",
       "    <tr>\n",
       "      <th>0</th>\n",
       "      <td>19</td>\n",
       "      <td>460</td>\n",
       "      <td>4</td>\n",
       "      <td>42</td>\n",
       "      <td>249</td>\n",
       "      <td>107</td>\n",
       "      <td>1162</td>\n",
       "      <td>400.00</td>\n",
       "      <td>2</td>\n",
       "      <td>1</td>\n",
       "      <td>1008.00</td>\n",
       "      <td>0.13</td>\n",
       "      <td>4</td>\n",
       "      <td>3</td>\n",
       "      <td>1</td>\n",
       "      <td>28</td>\n",
       "      <td>58</td>\n",
       "      <td>21</td>\n",
       "      <td>7</td>\n",
       "      <td>3</td>\n",
       "      <td>7.25</td>\n",
       "      <td>5.25</td>\n",
       "      <td>2</td>\n",
       "      <td>2</td>\n",
       "      <td>7</td>\n",
       "      <td>3</td>\n",
       "      <td>0</td>\n",
       "      <td>0</td>\n",
       "      <td>1</td>\n",
       "      <td>1</td>\n",
       "      <td>6.33</td>\n",
       "      <td>7.43</td>\n",
       "      <td>0</td>\n",
       "    </tr>\n",
       "    <tr>\n",
       "      <th>1</th>\n",
       "      <td>17</td>\n",
       "      <td>1300</td>\n",
       "      <td>2</td>\n",
       "      <td>22</td>\n",
       "      <td>122</td>\n",
       "      <td>107</td>\n",
       "      <td>1162</td>\n",
       "      <td>3000.00</td>\n",
       "      <td>19</td>\n",
       "      <td>1</td>\n",
       "      <td>692.00</td>\n",
       "      <td>0.00</td>\n",
       "      <td>3</td>\n",
       "      <td>3</td>\n",
       "      <td>6</td>\n",
       "      <td>26</td>\n",
       "      <td>41</td>\n",
       "      <td>17</td>\n",
       "      <td>7</td>\n",
       "      <td>3</td>\n",
       "      <td>5.12</td>\n",
       "      <td>4.25</td>\n",
       "      <td>3</td>\n",
       "      <td>0</td>\n",
       "      <td>7</td>\n",
       "      <td>3</td>\n",
       "      <td>1</td>\n",
       "      <td>0</td>\n",
       "      <td>3</td>\n",
       "      <td>1</td>\n",
       "      <td>5.00</td>\n",
       "      <td>5.00</td>\n",
       "      <td>0</td>\n",
       "    </tr>\n",
       "    <tr>\n",
       "      <th>2</th>\n",
       "      <td>16</td>\n",
       "      <td>1276</td>\n",
       "      <td>0</td>\n",
       "      <td>2</td>\n",
       "      <td>84</td>\n",
       "      <td>107</td>\n",
       "      <td>1162</td>\n",
       "      <td>4000.00</td>\n",
       "      <td>9</td>\n",
       "      <td>1</td>\n",
       "      <td>3032.00</td>\n",
       "      <td>0.43</td>\n",
       "      <td>7</td>\n",
       "      <td>3</td>\n",
       "      <td>0</td>\n",
       "      <td>20</td>\n",
       "      <td>99</td>\n",
       "      <td>14</td>\n",
       "      <td>17</td>\n",
       "      <td>2</td>\n",
       "      <td>5.50</td>\n",
       "      <td>4.67</td>\n",
       "      <td>5</td>\n",
       "      <td>0</td>\n",
       "      <td>17</td>\n",
       "      <td>2</td>\n",
       "      <td>2</td>\n",
       "      <td>0</td>\n",
       "      <td>4</td>\n",
       "      <td>0</td>\n",
       "      <td>6.50</td>\n",
       "      <td>4.88</td>\n",
       "      <td>0</td>\n",
       "    </tr>\n",
       "    <tr>\n",
       "      <th>3</th>\n",
       "      <td>21</td>\n",
       "      <td>940</td>\n",
       "      <td>4</td>\n",
       "      <td>42</td>\n",
       "      <td>38</td>\n",
       "      <td>107</td>\n",
       "      <td>1162</td>\n",
       "      <td>2200.00</td>\n",
       "      <td>286</td>\n",
       "      <td>0</td>\n",
       "      <td>796.00</td>\n",
       "      <td>0.80</td>\n",
       "      <td>4</td>\n",
       "      <td>3</td>\n",
       "      <td>5</td>\n",
       "      <td>25</td>\n",
       "      <td>22</td>\n",
       "      <td>10</td>\n",
       "      <td>3</td>\n",
       "      <td>1</td>\n",
       "      <td>5.50</td>\n",
       "      <td>5.00</td>\n",
       "      <td>1</td>\n",
       "      <td>0</td>\n",
       "      <td>3</td>\n",
       "      <td>1</td>\n",
       "      <td>0</td>\n",
       "      <td>0</td>\n",
       "      <td>0</td>\n",
       "      <td>0</td>\n",
       "      <td>10.00</td>\n",
       "      <td>6.67</td>\n",
       "      <td>0</td>\n",
       "    </tr>\n",
       "    <tr>\n",
       "      <th>4</th>\n",
       "      <td>4</td>\n",
       "      <td>317</td>\n",
       "      <td>6</td>\n",
       "      <td>0</td>\n",
       "      <td>278</td>\n",
       "      <td>119</td>\n",
       "      <td>44</td>\n",
       "      <td>40000.00</td>\n",
       "      <td>3</td>\n",
       "      <td>1</td>\n",
       "      <td>2264.00</td>\n",
       "      <td>0.21</td>\n",
       "      <td>5</td>\n",
       "      <td>3</td>\n",
       "      <td>3</td>\n",
       "      <td>16</td>\n",
       "      <td>24</td>\n",
       "      <td>14</td>\n",
       "      <td>4</td>\n",
       "      <td>3</td>\n",
       "      <td>4.80</td>\n",
       "      <td>3.50</td>\n",
       "      <td>1</td>\n",
       "      <td>1</td>\n",
       "      <td>4</td>\n",
       "      <td>3</td>\n",
       "      <td>0</td>\n",
       "      <td>1</td>\n",
       "      <td>2</td>\n",
       "      <td>0</td>\n",
       "      <td>4.00</td>\n",
       "      <td>5.25</td>\n",
       "      <td>0</td>\n",
       "    </tr>\n",
       "  </tbody>\n",
       "</table>\n",
       "</div>"
      ],
      "text/plain": [
       "   region  city  parent_category_name  category_name  param_1  param_2  \\\n",
       "0      19   460                     4             42      249      107   \n",
       "1      17  1300                     2             22      122      107   \n",
       "2      16  1276                     0              2       84      107   \n",
       "3      21   940                     4             42       38      107   \n",
       "4       4   317                     6              0      278      119   \n",
       "\n",
       "   param_3    price  item_seq_number  user_type  image_top_1  \\\n",
       "0     1162   400.00                2          1      1008.00   \n",
       "1     1162  3000.00               19          1       692.00   \n",
       "2     1162  4000.00                9          1      3032.00   \n",
       "3     1162  2200.00              286          0       796.00   \n",
       "4       44 40000.00                3          1      2264.00   \n",
       "\n",
       "   deal_probability  param_combined_len  month  weekday  day  char_count_desc  \\\n",
       "0              0.13                   4      3        1   28               58   \n",
       "1              0.00                   3      3        6   26               41   \n",
       "2              0.43                   7      3        0   20               99   \n",
       "3              0.80                   4      3        5   25               22   \n",
       "4              0.21                   5      3        3   16               24   \n",
       "\n",
       "   char_count_title  word_count_desc  word_count_title  word_density_desc  \\\n",
       "0                21                7                 3               7.25   \n",
       "1                17                7                 3               5.12   \n",
       "2                14               17                 2               5.50   \n",
       "3                10                3                 1               5.50   \n",
       "4                14                4                 3               4.80   \n",
       "\n",
       "   word_density_title  punctuation_count_desc  punctuation_count_title  \\\n",
       "0                5.25                       2                        2   \n",
       "1                4.25                       3                        0   \n",
       "2                4.67                       5                        0   \n",
       "3                5.00                       1                        0   \n",
       "4                3.50                       1                        1   \n",
       "\n",
       "   unique_word_desc  unique_word_title  upper_case_word_count_desc  \\\n",
       "0                 7                  3                           0   \n",
       "1                 7                  3                           1   \n",
       "2                17                  2                           2   \n",
       "3                 3                  1                           0   \n",
       "4                 4                  3                           0   \n",
       "\n",
       "   upper_case_word_count_title  stopword_count_desc  stopword_count_title  \\\n",
       "0                            0                    1                     1   \n",
       "1                            0                    3                     1   \n",
       "2                            0                    4                     0   \n",
       "3                            0                    0                     0   \n",
       "4                            1                    2                     0   \n",
       "\n",
       "   mean_word_len_title  mean_word_len_desc  price_bins  \n",
       "0                 6.33                7.43           0  \n",
       "1                 5.00                5.00           0  \n",
       "2                 6.50                4.88           0  \n",
       "3                10.00                6.67           0  \n",
       "4                 4.00                5.25           0  "
      ]
     },
     "execution_count": 18,
     "metadata": {},
     "output_type": "execute_result"
    }
   ],
   "source": [
    "train_df.head()"
   ]
  },
  {
   "cell_type": "code",
   "execution_count": 19,
   "metadata": {},
   "outputs": [
    {
     "data": {
      "text/plain": [
       "(1503424, 33)"
      ]
     },
     "execution_count": 19,
     "metadata": {},
     "output_type": "execute_result"
    }
   ],
   "source": [
    "train_df.shape"
   ]
  },
  {
   "cell_type": "code",
   "execution_count": 20,
   "metadata": {},
   "outputs": [],
   "source": [
    "########################################"
   ]
  },
  {
   "cell_type": "markdown",
   "metadata": {},
   "source": [
    "# 4. Modelo"
   ]
  },
  {
   "cell_type": "code",
   "execution_count": 22,
   "metadata": {
    "collapsed": true,
    "jupyter": {
     "outputs_hidden": true
    },
    "tags": []
   },
   "outputs": [
    {
     "name": "stdout",
     "output_type": "stream",
     "text": [
      "(1331625, 32)\n",
      "(1331625,)\n"
     ]
    }
   ],
   "source": [
    "train_df.dropna(inplace=True)\n",
    "x = train_df.drop(['deal_probability'], axis=1)\n",
    "y = train_df['deal_probability'].values\n",
    "print(x.shape)\n",
    "print(y.shape)"
   ]
  },
  {
   "cell_type": "code",
   "execution_count": 23,
   "metadata": {
    "tags": []
   },
   "outputs": [
    {
     "name": "stdout",
     "output_type": "stream",
     "text": [
      "(932137, 32)\n",
      "(932137,)\n",
      "(199744, 32)\n",
      "(199744,)\n",
      "(199744, 32)\n",
      "(199744,)\n"
     ]
    }
   ],
   "source": [
    "x_train, x_rem, y_train, y_rem = train_test_split(x, y, test_size=0.3, random_state=0)\n",
    "x_test, x_val, y_test, y_val = train_test_split(x_rem, y_rem, test_size=0.5, random_state=0)\n",
    "\n",
    "print(x_train.shape)\n",
    "print(y_train.shape)\n",
    "print(x_test.shape)\n",
    "print(y_test.shape)\n",
    "print(x_val.shape)\n",
    "print(y_val.shape)"
   ]
  },
  {
   "cell_type": "code",
   "execution_count": 30,
   "metadata": {
    "tags": []
   },
   "outputs": [
    {
     "name": "stdout",
     "output_type": "stream",
     "text": [
      "Training until validation scores don't improve for 50 rounds\n",
      "[100]\tvalid_0's rmse: 0.229837\n",
      "[200]\tvalid_0's rmse: 0.228486\n",
      "[300]\tvalid_0's rmse: 0.227803\n",
      "[400]\tvalid_0's rmse: 0.227414\n",
      "[500]\tvalid_0's rmse: 0.227173\n",
      "[600]\tvalid_0's rmse: 0.226903\n",
      "[700]\tvalid_0's rmse: 0.226725\n",
      "[800]\tvalid_0's rmse: 0.226561\n",
      "[900]\tvalid_0's rmse: 0.226467\n",
      "[1000]\tvalid_0's rmse: 0.226407\n",
      "[1100]\tvalid_0's rmse: 0.226327\n",
      "[1200]\tvalid_0's rmse: 0.226263\n",
      "[1300]\tvalid_0's rmse: 0.226189\n",
      "[1400]\tvalid_0's rmse: 0.226115\n",
      "[1500]\tvalid_0's rmse: 0.226052\n",
      "[1600]\tvalid_0's rmse: 0.226027\n",
      "[1700]\tvalid_0's rmse: 0.226\n",
      "[1800]\tvalid_0's rmse: 0.225944\n",
      "[1900]\tvalid_0's rmse: 0.225924\n",
      "[2000]\tvalid_0's rmse: 0.22589\n",
      "Did not meet early stopping. Best iteration is:\n",
      "[2000]\tvalid_0's rmse: 0.22589\n"
     ]
    }
   ],
   "source": [
    "# Create the LightGBM data containers\n",
    "train_data = lightgbm.Dataset(x_train, label=y_train)\n",
    "val_data = lightgbm.Dataset(x_val, label=y_val)\n",
    "\n",
    "# Train the model\n",
    "parameters = {\n",
    "    'task': 'train',\n",
    "    'boosting_type': 'gbdt',\n",
    "    'objective': 'regression',\n",
    "    'metric': 'rmse',\n",
    "    'num_leaves': 63,\n",
    "    'max_depth': 15,\n",
    "    'learning_rate': 0.05,\n",
    "    'feature_fraction': 0.9,\n",
    "    'bagging_fraction': 0.8,\n",
    "    'bagging_freq': 5\n",
    "}\n",
    "\n",
    "\n",
    "model = lightgbm.train(parameters,\n",
    "                       train_data,\n",
    "                       valid_sets=val_data,\n",
    "                       num_boost_round=2000,\n",
    "                       early_stopping_rounds=50,\n",
    "                       verbose_eval=100)\n",
    "\n",
    "#y_pred = model.predict(x_test)"
   ]
  },
  {
   "cell_type": "code",
   "execution_count": 37,
   "metadata": {},
   "outputs": [
    {
     "data": {
      "text/plain": [
       "0.2246162721392105"
      ]
     },
     "execution_count": 37,
     "metadata": {},
     "output_type": "execute_result"
    }
   ],
   "source": [
    "# Pred\n",
    "y_pred = model.predict(x_test)\n",
    "rmse = sqrt(mean_squared_error(y_test, y_pred))\n",
    "rmse"
   ]
  },
  {
   "cell_type": "code",
   "execution_count": 31,
   "metadata": {},
   "outputs": [
    {
     "data": {
      "text/plain": [
       "Text(0.5, 1.0, 'Light GBM Feature Importance')"
      ]
     },
     "execution_count": 31,
     "metadata": {},
     "output_type": "execute_result"
    },
    {
     "data": {
      "image/png": "[encoded data removed]",
      "text/plain": [
       "<Figure size 720x864 with 1 Axes>"
      ]
     },
     "metadata": {
      "needs_background": "light"
     },
     "output_type": "display_data"
    }
   ],
   "source": [
    "fig, ax = plt.subplots(figsize=(10, 12))\n",
    "lgb.plot_importance(model, max_num_features=25, ax=ax)\n",
    "plt.title(\"Light GBM Feature Importance\")"
   ]
  },
  {
   "cell_type": "code",
   "execution_count": 32,
   "metadata": {},
   "outputs": [],
   "source": [
    "## As features criadas word_density_description, , mean_word_len apresentam importancia relevante na determinacao da probabilidade de venda."
   ]
  },
  {
   "cell_type": "code",
   "execution_count": 27,
   "metadata": {},
   "outputs": [],
   "source": [
    "import pickle\n",
    "\n",
    "with open('lightgbm.pkl','wb') as f:\n",
    "    pickle.dump(model,f)"
   ]
  },
  {
   "cell_type": "markdown",
   "metadata": {},
   "source": [
    "**Implementações**\n",
    "\n",
    "- Validação cruzada K-Fold.\n",
    "- Comparar a outros modelos de regressão.\n",
    "- Inserir uma dimensão temporal como número de itens que um usuário coloca à venda por dia.\n",
    "- Incluir recursos de texto como embeddings com palavras pré-treinadas.\n",
    "- Utilizar o dataset de imagens para extração de novas features.\n",
    "- Criar uma aplicação dash par exposição dda análise exploratória e o resultado do modelo.\n"
   ]
  },
  {
   "cell_type": "code",
   "execution_count": null,
   "metadata": {},
   "outputs": [],
   "source": []
  }
 ],
 "metadata": {
  "kernelspec": {
   "display_name": "Python 3",
   "language": "python",
   "name": "python3"
  },
  "language_info": {
   "codemirror_mode": {
    "name": "ipython",
    "version": 3
   },
   "file_extension": ".py",
   "mimetype": "text/x-python",
   "name": "python",
   "nbconvert_exporter": "python",
   "pygments_lexer": "ipython3",
   "version": "3.6.9"
  }
 },
 "nbformat": 4,
 "nbformat_minor": 4
}
